{
 "cells": [
  {
   "cell_type": "code",
   "execution_count": null,
   "metadata": {},
   "outputs": [],
   "source": [
    "# Import necessary libraries\n",
    "from openpyxl import Workbook\n",
    "from openpyxl import load_workbook\n",
    "from sklearn.metrics import cohen_kappa_score\n",
    "import tkinter as tk\n",
    "from tkinter import *\n",
    "from tkinter.filedialog import askopenfile\n",
    "import math"
   ]
  },
  {
   "cell_type": "code",
   "execution_count": null,
   "metadata": {},
   "outputs": [],
   "source": [
    "# List of relevant values imported from an Excel file\n",
    "\n",
    "file = askopenfile(mode=\"r\", filetypes = [(\"Excel Files\", \"*.xlsx\")])\n",
    "# Insert the name of the XCEL list for the load_workbook\n",
    "wb = load_workbook(file.name)\n",
    "# Insert sheet name for the wb[\" \"] \n",
    "ws = wb[\"Sheet1\"]\n",
    "# Insert the 2 rater columns for the ws[\" \"] \n",
    "rater1 = ws[\"A\"]\n",
    "rater2 = ws[\"B\"]\n",
    "r1_val = [rater1[x].value for x in range(1,len(rater1))]\n",
    "r2_val = [rater2[x].value for x in range(1,len(rater2))]\n",
    "    \n",
    "root = Tk()\n",
    "root.destroy()\n",
    "root.mainloop()"
   ]
  },
  {
   "cell_type": "code",
   "execution_count": null,
   "metadata": {},
   "outputs": [],
   "source": [
    "# Determine if both values are non-zero and assigns 1\n",
    "\n",
    "r1_n_val = []\n",
    "r2_n_val = []\n",
    "\n",
    "if len(r1_val) == sum(r1_val)+1:\n",
    "    for x in r1_val:\n",
    "        if x>0:\n",
    "            r1_n_val.append(1)\n",
    "        else: \n",
    "            r1_n_val.append(0)\n",
    "\n",
    "    for x in r2_val:\n",
    "        if x>0:\n",
    "            r2_n_val.append(1)\n",
    "        else: \n",
    "            r2_n_val.append(0)\n",
    "    kappa_score = cohen_kappa_score(r1_n_val, r2_n_val)\n",
    "    if math.isnan(kappa_score) == True:\n",
    "        print(1.0)\n",
    "    else:\n",
    "        print(kappa_score)\n",
    "else:\n",
    "    kappa_score = cohen_kappa_score(r1_val, r2_val)\n",
    "    if math.isnan(kappa_score) == True:\n",
    "        print(1.0)\n",
    "    else:\n",
    "        print(\"The Cohen Kappa score is: \"+str(kappa_score))\n",
    "        \n",
    "table = f\"\"\"\n",
    "Poor           = < 0.00\n",
    "Slight         = 0.00 - 0.20\n",
    "Fair           = 0.20 - 0.40\n",
    "Moderate       = 0.41 - 0.60\n",
    "Substanstial   = 0.61 - 0.80\n",
    "Almost Perfect = 0.81 - 1.00\n",
    "\"\"\"\n",
    "print(table)"
   ]
  },
  {
   "cell_type": "code",
   "execution_count": null,
   "metadata": {},
   "outputs": [],
   "source": []
  }
 ],
 "metadata": {
  "kernelspec": {
   "display_name": "Python 3",
   "language": "python",
   "name": "python3"
  },
  "language_info": {
   "codemirror_mode": {
    "name": "ipython",
    "version": 3
   },
   "file_extension": ".py",
   "mimetype": "text/x-python",
   "name": "python",
   "nbconvert_exporter": "python",
   "pygments_lexer": "ipython3",
   "version": "3.7.6"
  }
 },
 "nbformat": 4,
 "nbformat_minor": 4
}
